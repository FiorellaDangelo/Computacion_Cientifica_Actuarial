{
  "cells": [
    {
      "cell_type": "markdown",
      "metadata": {},
      "source": [
        "# Computación Científica Actuarial — Clase 1 (Práctica)\n",
        "**Introducción a Python: entorno, variables, tipos y estructuras básicas**\n\n",
        "> Este notebook acompaña el PPT de la clase. Ejecutá cada celda (Shift+Enter) y resolvé los mini‑ejercicios intercalados.\n"
      ]
    },
    {
      "cell_type": "markdown",
      "metadata": {},
      "source": [
        "## 0) Preparación rápida\n",
        "- Este es un **notebook (.ipynb)**: podés mezclar texto y código.\n",
        "- Si estás en VS Code/Jupyter/Colab, elegí un *kernel* de Python 3.x.\n",
        "- Recordá que en Python **las celdas se ejecutan en orden**."
      ]
    },
    {
      "cell_type": "markdown",
      "metadata": {},
      "source": [
        "---\n",
        "## 1) Python como calculadora\n"
      ]
    },
    {
      "cell_type": "code",
      "execution_count": null,
      "metadata": {},
      "outputs": [],
      "source": [
        "# Operaciones aritméticas básicas\n",
        "3 + 5, 10 - 4, 6 * 7, 22 / 7, 22 // 7, 22 % 7, 2 ** 10"
      ]
    },
    {
      "cell_type": "markdown",
      "metadata": {},
      "source": [
        "### Mini‑ejercicio 1 (5 min)\n",
        "- Calculá el **perímetro** y el **área** de un rectángulo de base `12` y altura `8`.\n",
        "- Mostrá los resultados."
      ]
    },
    {
      "cell_type": "code",
      "execution_count": null,
      "metadata": {
        "tags": [
          "exercise"
        ]
      },
      "outputs": [],
      "source": [
        "# Tu solución acá\n",
        "base = 12\n",
        "altura = 8\n",
        "perimetro = 2 * (base + altura)\n",
        "area = base * altura\n",
        "perimetro, area"
      ]
    },
    {
      "cell_type": "markdown",
      "metadata": {},
      "source": [
        "---\n",
        "## 2) Variables y tipos básicos\n"
      ]
    },
    {
      "cell_type": "code",
      "execution_count": null,
      "metadata": {},
      "outputs": [],
      "source": [
        "edad = 34          # int (entero)\n",
        "tasa = 0.035       # float (decimal)\n",
        "nombre = \"Ana\"     # str (cadena de texto)\n",
        "activo = True      # bool (booleano)\n",
        "type(edad), type(tasa), type(nombre), type(activo)"
      ]
    },
    {
      "cell_type": "markdown",
      "metadata": {},
      "source": [
        "### Mini‑ejercicio 2\n",
        "Usá un **f‑string** para imprimir algo como: `Hola Ana, tu edad es 34 y estado=Activo`."
      ]
    },
    {
      "cell_type": "code",
      "execution_count": null,
      "metadata": {
        "tags": [
          "exercise"
        ]
      },
      "outputs": [],
      "source": [
        "# Tu solución acá\n",
        "print(f\"Hola {nombre}, tu edad es {edad} y estado={'Activo' if activo else 'Inactivo'}\")"
      ]
    },
    {
      "cell_type": "markdown",
      "metadata": {},
      "source": [
        "---\n",
        "## 3) Casting y operadores\n"
      ]
    },
    {
      "cell_type": "code",
      "execution_count": null,
      "metadata": {},
      "outputs": [],
      "source": [
        "# Casting (conversión de tipos)\n",
        "x = \"42\"\n",
        "int(x) + 8"
      ]
    },
    {
      "cell_type": "code",
      "execution_count": null,
      "metadata": {},
      "outputs": [],
      "source": [
        "# Operadores de comparación y lógicos\n",
        "a, b = 10, 20\n",
        "(a < b, a == b, a != b), (True and False, True or False, not True)"
      ]
    },
    {
      "cell_type": "markdown",
      "metadata": {},
      "source": [
        "### Mini‑ejercicio 3\n",
        "Ingresá un número (hardcodealo si no tenés input) y verificá si es **par**."
      ]
    },
    {
      "cell_type": "code",
      "execution_count": null,
      "metadata": {
        "tags": [
          "exercise"
        ]
      },
      "outputs": [],
      "source": [
        "# Tu solución acá\n",
        "n = 17  # cambiá este valor\n",
        "es_par = (n % 2 == 0)\n",
        "f\"¿{n} es par? {es_par}\""
      ]
    },
    {
      "cell_type": "markdown",
      "metadata": {},
      "source": [
        "---\n",
        "## 4) Strings y f-strings\n"
      ]
    },
    {
      "cell_type": "code",
      "execution_count": null,
      "metadata": {},
      "outputs": [],
      "source": [
        "s = \"Actuaria y Python\"\n",
        "s.lower(), s.upper(), s.replace(\"Python\", \"Datos\"), len(s)"
      ]
    },
    {
      "cell_type": "code",
      "execution_count": null,
      "metadata": {},
      "outputs": [],
      "source": [
        "nombre = \"Fiore\"\n",
        "saldo = 1250.75\n",
        "f\"Hola {nombre}, tu saldo es {saldo:.2f}\""
      ]
    },
    {
      "cell_type": "markdown",
      "metadata": {},
      "source": [
        "### Mini‑ejercicio 4\n",
        "Dado `cliente = 'maria lopez'`, transformalo en `Maria Lopez`."
      ]
    },
    {
      "cell_type": "code",
      "execution_count": null,
      "metadata": {
        "tags": [
          "exercise"
        ]
      },
      "outputs": [],
      "source": [
        "# Tu solución acá\n",
        "cliente = \"maria lopez\"\n",
        "cliente = \" \".join([p.capitalize() for p in cliente.split()])\n",
        "cliente"
      ]
    },
    {
      "cell_type": "markdown",
      "metadata": {},
      "source": [
        "---\n",
        "## 5) Estructuras nativas: list, tuple, dict, set\n"
      ]
    },
    {
      "cell_type": "code",
      "execution_count": null,
      "metadata": {},
      "outputs": [],
      "source": [
        "# List (lista): ordenada, mutable, permite duplicados.\n",
        "primas = [1200, 1500, 950, 2000]\n",
        "primas[0], primas[-1], primas[1:3]  # indexación y slicing"
      ]
    },
    {
      "cell_type": "code",
      "execution_count": null,
      "metadata": {},
      "outputs": [],
      "source": [
        "# Operaciones básicas en listas\n",
        "primas.append(1750)\n",
        "primas.sort()\n",
        "primas"
      ]
    },
    {
      "cell_type": "code",
      "execution_count": null,
      "metadata": {},
      "outputs": [],
      "source": [
        "# Tuple (tupla): ordenada, **inmutable**\n",
        "periodo = (\"2025-01\", \"2025-02\", \"2025-03\")\n",
        "periodo[0], len(periodo)"
      ]
    },
    {
      "cell_type": "code",
      "execution_count": null,
      "metadata": {},
      "outputs": [],
      "source": [
        "# Dict (diccionario): pares clave -> valor\n",
        "poliza = {\"asegurado\": \"Juan\", \"edad\": 45, \"prima\": 1500}\n",
        "poliza[\"asegurado\"], poliza.get(\"prima\"), list(poliza.keys()), list(poliza.values())"
      ]
    },
    {
      "cell_type": "code",
      "execution_count": null,
      "metadata": {},
      "outputs": [],
      "source": [
        "# Set (conjunto): colección sin duplicados\n",
        "riesgos = {\"vida\", \"retiro\", \"vida\", \"salud\"}\n",
        "riesgos, (\"vida\" in riesgos)"
      ]
    },
    {
      "cell_type": "markdown",
      "metadata": {},
      "source": [
        "### Mini‑ejercicios 5.x\n",
        "1. Crear una lista de **sumas aseguradas** y calcular el **promedio**.\n",
        "2. Agregar a `poliza` una clave `suma_asegurada` y luego eliminar `edad`.\n",
        "3. Usar un `set` para quitar duplicados de `clientes = ['Ana','Ana','Juan','Pedro','Juan']`."
      ]
    },
    {
      "cell_type": "code",
      "execution_count": null,
      "metadata": {
        "tags": [
          "exercise"
        ]
      },
      "outputs": [],
      "source": [
        "# Tu solución acá\n",
        "sumas = [100000, 120000, 80000, 150000]\n",
        "promedio = sum(sumas) / len(sumas)\n",
        "poliza[\"suma_asegurada\"] = promedio\n",
        "poliza.pop(\"edad\", None)\n",
        "clientes = ['Ana','Ana','Juan','Pedro','Juan']\n",
        "clientes_unicos = set(clientes)\n",
        "promedio, poliza, clientes_unicos"
      ]
    },
    {
      "cell_type": "markdown",
      "metadata": {},
      "source": [
        "---\n",
        "## 6) Bonus: ¿Qué es un DataFrame? (pandas)\n"
      ]
    },
    {
      "cell_type": "code",
      "execution_count": null,
      "metadata": {},
      "outputs": [],
      "source": [
        "import pandas as pd\n",
        "data = {\n",
        "    \"Asegurado\": [\"Juan\", \"Ana\", \"Pedro\", \"Laura\"],\n",
        "    \"Edad\": [34, 45, 29, 52],\n",
        "    \"Prima\": [1200, 1500, 950, 2000],\n",
        "    \"Suma_Asegurada\": [100000, 120000, 80000, 150000],\n",
        "}\n",
        "df = pd.DataFrame(data)\n",
        "df.head()"
      ]
    },
    {
      "cell_type": "code",
      "execution_count": null,
      "metadata": {},
      "outputs": [],
      "source": [
        "df.info()"
      ]
    },
    {
      "cell_type": "code",
      "execution_count": null,
      "metadata": {},
      "outputs": [],
      "source": [
        "df.describe()"
      ]
    },
    {
      "cell_type": "markdown",
      "metadata": {},
      "source": [
        "### Mini‑ejercicio 6\n",
        "Calculá el **promedio** de la columna `Prima` y mostralo con 2 decimales."
      ]
    },
    {
      "cell_type": "code",
      "execution_count": null,
      "metadata": {
        "tags": [
          "exercise"
        ]
      },
      "outputs": [],
      "source": [
        "# Tu solución acá\n",
        "prom_prima = df[\"Prima\"].mean()\n",
        "f\"Prima promedio: {prom_prima:.2f}\""
      ]
    },
    {
      "cell_type": "markdown",
      "metadata": {},
      "source": [
        "---\n",
        "## 7) Cierre y práctica sugerida\n",
        "- Repetí los mini‑ejercicios con datos distintos.\n",
        "- Creá una lista de pólizas (como dicts) y calculá la prima promedio.\n",
        "- (Opcional) Leé un CSV con `pandas.read_csv(...)` y probá `.head()` y `.describe()`.\n"
      ]
    },
    {
      "cell_type": "markdown",
      "metadata": {},
      "source": [
        "---\n## 8) Funciones: definición, parámetros y retorno"
      ]
    },
    {
      "cell_type": "markdown",
      "metadata": {},
      "source": [
        "Una **función** es un bloque de código reutilizable que recibe **parámetros** (opcionales), \nejecuta instrucciones y **devuelve** (o no) un resultado con `return`.\n\n**Ventajas**: evita repetir código, hace el programa más legible y testeable.\n\n> Nota: una **librería** es un *conjunto de funciones y clases* listas para usar. \nCuando escribimos `import math`, estamos trayendo **funciones** (p.ej. `math.sqrt`) y **constantes** (`math.pi`)."
      ]
    },
    {
      "cell_type": "code",
      "execution_count": null,
      "metadata": {},
      "outputs": [],
      "source": [
        "def saludo(nombre):\n    \"\"\"Devuelve un saludo personalizado.\n    Args:\n        nombre (str): nombre de la persona\n    Returns:\n        str: mensaje de saludo\n    \"\"\"\n    return f\"Hola {nombre}, ¡bienvenido a Python!\"\n\nsaludo(\"Ana\")"
      ]
    },
    {
      "cell_type": "code",
      "execution_count": null,
      "metadata": {},
      "outputs": [],
      "source": [
        "# Parámetros con valor por defecto y múltiples retornos\n\ndef resumen_prestamos(capital, tasa_anual=0.12, plazo_meses=12):\n    tasa_mensual = tasa_anual/12\n    interes_estimado = capital * tasa_mensual * plazo_meses\n    total = capital + interes_estimado\n    return tasa_mensual, interes_estimado, total\n\nresumen_prestamos(100_000, plazo_meses=6)"
      ]
    },
    {
      "cell_type": "markdown",
      "metadata": {},
      "source": [
        "### Mini‑ejercicio 8\n- Escribí una función `es_par(n)` que devuelva `True`/`False`.\n- Escribí otra función `mayor(a, b)` que devuelva el mayor de dos números."
      ]
    },
    {
      "cell_type": "code",
      "execution_count": null,
      "metadata": {
        "tags": [
          "exercise"
        ]
      },
      "outputs": [],
      "source": [
        "# Tu solución acá\n\ndef es_par(n):\n    return (n % 2) == 0\n\n\ndef mayor(a, b):\n    return a if a >= b else b\n\nes_par(14), mayor(10, 25)"
      ]
    },
    {
      "cell_type": "markdown",
      "metadata": {},
      "source": [
        "---\n## 9) Clases, atributos y métodos (POO)"
      ]
    },
    {
      "cell_type": "markdown",
      "metadata": {},
      "source": [
        "La **Programación Orientada a Objetos (POO)** organiza el código en **clases** (moldes) y **objetos** (instancias).\n- **Atributos**: datos que describen al objeto (estado).\n- **Métodos**: funciones definidas dentro de la clase que describen comportamientos.\n\n`__init__` es el **constructor**: se ejecuta al crear el objeto y sirve para inicializar atributos."
      ]
    },
    {
      "cell_type": "code",
      "execution_count": null,
      "metadata": {},
      "outputs": [],
      "source": [
        "class Auto:\n    flota_total = 0  # atributo de clase (compartido)\n\n    def __init__(self, color, marca, anio):\n        self.color = color     # atributo de instancia\n        self.marca = marca     # atributo de instancia\n        self.anio = anio       # atributo de instancia\n        Auto.flota_total += 1\n\n    def descripcion(self):     # método de instancia\n        return f\"{self.marca} {self.color} ({self.anio})\"\n\n    def arrancar(self):\n        return f\"{self.descripcion()} está arrancando\"\n\n    @classmethod\n    def cantidad_en_flota(cls):\n        return cls.flota_total\n\n    @staticmethod\n    def es_antiguo(anio):\n        return anio < 2000\n\nmi_auto = Auto(\"rojo\", \"Toyota\", 2020)\notro_auto = Auto(\"azul\", \"Ford\", 2015)\n\nmi_auto.arrancar(), Auto.cantidad_en_flota(), Auto.es_antiguo(1999)"
      ]
    },
    {
      "cell_type": "markdown",
      "metadata": {},
      "source": [
        "**Notas**:\n- `atributo de clase`: pertenece a la clase y lo comparten todas las instancias.\n- `atributo de instancia`: propio de cada objeto.\n- `@classmethod`: método que recibe `cls` (la clase) en vez de `self`.\n- `@staticmethod`: método utilitario que no depende de `self` ni `cls`."
      ]
    },
    {
      "cell_type": "markdown",
      "metadata": {},
      "source": [
        "### Mini‑ejercicio 9\n- Creá una clase `Poliza` con atributos `asegurado`, `edad`, `prima`.\n- Agregá un método `resumen()` que devuelva un string con los datos.\n- Probalo creando dos instancias."
      ]
    },
    {
      "cell_type": "code",
      "execution_count": null,
      "metadata": {
        "tags": [
          "exercise"
        ]
      },
      "outputs": [],
      "source": [
        "# Tu solución acá\n\nclass Poliza:\n    def __init__(self, asegurado, edad, prima):\n        self.asegurado = asegurado\n        self.edad = edad\n        self.prima = prima\n    def resumen(self):\n        return f\"Poliza de {self.asegurado} | edad={self.edad} | prima={self.prima}\"\n\np1 = Poliza(\"Juan\", 45, 1500)\np2 = Poliza(\"Ana\", 38, 1200)\n\np1.resumen(), p2.resumen()"
      ]
    },
    {
      "cell_type": "markdown",
      "metadata": {},
      "source": [
        "---\n## 10) NumPy: arrays y operaciones vectorizadas"
      ]
    },
    {
      "cell_type": "markdown",
      "metadata": {},
      "source": [
        "**NumPy** provee `ndarray`, una estructura eficiente para computación numérica vectorizada.\n\n**Creación básica:**"
      ]
    },
    {
      "cell_type": "code",
      "execution_count": null,
      "metadata": {},
      "outputs": [],
      "source": [
        "import numpy as np\n\narr = np.array([10, 20, 30, 40])\nmat = np.array([[1,2,3],[4,5,6]])\narr, mat, arr.dtype, arr.shape, mat.shape"
      ]
    },
    {
      "cell_type": "markdown",
      "metadata": {},
      "source": [
        "**Operaciones vectorizadas y estadísticas rápidas:**"
      ]
    },
    {
      "cell_type": "code",
      "execution_count": null,
      "metadata": {},
      "outputs": [],
      "source": [
        "arr + 5, arr * 2, arr ** 2, arr.mean(), arr.sum(), arr.min(), arr.max(), arr.std()"
      ]
    },
    {
      "cell_type": "markdown",
      "metadata": {},
      "source": [
        "**Creación útil:** `arange`, `linspace`, ceros/unos aleatorios"
      ]
    },
    {
      "cell_type": "code",
      "execution_count": null,
      "metadata": {},
      "outputs": [],
      "source": [
        "np.arange(0, 10, 2), np.linspace(0, 1, 5), np.zeros((2,3)), np.ones((2,3)), np.random.rand(2,3)"
      ]
    },
    {
      "cell_type": "markdown",
      "metadata": {},
      "source": [
        "**Métodos/atributos frecuentes de `ndarray`:**\n- `.shape` (tupla de dimensiones), `.ndim` (nº dimensiones), `.dtype` (tipo)\n- `.reshape()`, `.ravel()`, `.T` (traspuesta)\n- `.sum()`, `.mean()`, `.min()`, `.max()`, `.std()`, `.var()`\n- **Indexación y slicing**: `arr[0]`, `arr[1:3]`, `mat[0,1]`, `mat[:, 0]`"
      ]
    },
    {
      "cell_type": "markdown",
      "metadata": {},
      "source": [
        "### Mini‑ejercicio 10\n- Construí un vector `v = [5,10,15,20,25]` y devolvé su promedio y std.\n- Tomá `w = np.arange(1,11)` y quedate con los múltiplos de 3."
      ]
    },
    {
      "cell_type": "code",
      "execution_count": null,
      "metadata": {
        "tags": [
          "exercise"
        ]
      },
      "outputs": [],
      "source": [
        "# Tu solución acá\n\nv = np.array([5,10,15,20,25])\nv.mean(), v.std()\n\nw = np.arange(1, 11)\nw[w % 3 == 0]"
      ]
    },
    {
      "cell_type": "markdown",
      "metadata": {},
      "source": [
        "---\n## 11) Pandas: métodos y atributos útiles en DataFrames"
      ]
    },
    {
      "cell_type": "markdown",
      "metadata": {},
      "source": [
        "Recordatorio: un **DataFrame** es una **tabla** (filas x columnas). Cada columna es una **Serie**.\n\nDesde la sección anterior ya tenemos `df`. Veamos métodos y atributos útiles:"
      ]
    },
    {
      "cell_type": "code",
      "execution_count": null,
      "metadata": {},
      "outputs": [],
      "source": [
        "# Si no existe df, recrearlo (por si se ejecuta esta celda primero)\ntry:\n    df\nexcept NameError:\n    import pandas as pd\n    data = {\n        \"Asegurado\": [\"Juan\", \"Ana\", \"Pedro\", \"Laura\"],\n        \"Edad\": [34, 45, 29, 52],\n        \"Prima\": [1200, 1500, 950, 2000],\n        \"Suma_Asegurada\": [100000, 120000, 80000, 150000],\n    }\n    df = pd.DataFrame(data)\n\ndf.head(), df.shape, df.columns, df.dtypes"
      ]
    },
    {
      "cell_type": "code",
      "execution_count": null,
      "metadata": {},
      "outputs": [],
      "source": [
        "# Estadísticos y conteos\n(\n    df.count(),    # cantidad de no nulos por columna\n    df.sum(numeric_only=True),\n    df.min(numeric_only=True),\n    df.max(numeric_only=True),\n    df.mean(numeric_only=True),\n    df.median(numeric_only=True),\n    df.std(numeric_only=True),\n)"
      ]
    },
    {
      "cell_type": "code",
      "execution_count": null,
      "metadata": {},
      "outputs": [],
      "source": [
        "# Selección / filtrado / ordenamiento\nsubset = df[[\"Asegurado\",\"Prima\"]]\nfiltrado = df[df[\"Prima\"] > 1000]\nordenado = df.sort_values(\"Prima\", ascending=False)\nsubset, filtrado, ordenado.head(3)"
      ]
    },
    {
      "cell_type": "markdown",
      "metadata": {},
      "source": [
        "**Listado breve de cosas posibles (DataFrame/Series):**\n- **Estructura**: `.head()`, `.tail()`, `.shape`, `.columns`, `.dtypes`, `.info()`\n- **Estadísticos**: `.count()`, `.sum()`, `.min()`, `.max()`, `.mean()`, `.median()`, `.std()`, `.describe()`\n- **Selección**: `df[cols]`, `.loc[fila, col]`, `.iloc[idx]`\n- **Filtrado**: `df[df[col] > x]`, combinaciones con `&`, `|`, `~`\n- **Ordenar**: `.sort_values(col)`, `.sort_index()`\n- **Crear/Modificar**: `df[\"nueva\"] = ...`, `.assign(...)`, `.drop(columns=[...])`\n- **Agrupar**: `.groupby(col).agg({...})`\n- **Unir/merge**: `.merge()`, `.concat()`\n- **Lectura/Escritura**: `pd.read_csv`, `to_csv`, `read_excel`, `to_excel`"
      ]
    },
    {
      "cell_type": "markdown",
      "metadata": {},
      "source": [
        "### Mini‑ejercicio 11\n- Calculá la **prima promedio** por `Asegurado` con `groupby`.\n- Creá una columna `Prima_USD` asumiendo tipo de cambio `= 1000`."
      ]
    },
    {
      "cell_type": "code",
      "execution_count": null,
      "metadata": {
        "tags": [
          "exercise"
        ]
      },
      "outputs": [],
      "source": [
        "# Tu solución acá\n\nprom_por_aseg = df.groupby(\"Asegurado\")[\"Prima\"].mean()\ndf = df.assign(Prima_USD = df[\"Prima\"] / 1000)\nprom_por_aseg, df.head()"
      ]
    }
  ],
  "metadata": {
    "kernelspec": {
      "display_name": "Python 3",
      "language": "python",
      "name": "python3"
    },
    "language_info": {
      "name": "python",
      "version": "3.x",
      "mimetype": "text/x-python",
      "codemirror_mode": {
        "name": "ipython",
        "version": 3
      },
      "pygments_lexer": "ipython3",
      "nbconvert_exporter": "python",
      "file_extension": ".py"
    }
  },
  "nbformat": 4,
  "nbformat_minor": 5
}