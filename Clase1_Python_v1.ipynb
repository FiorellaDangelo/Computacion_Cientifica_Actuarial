{
 "cells": [
  {
   "cell_type": "markdown",
   "id": "67a58233",
   "metadata": {},
   "source": [
    "# Computación Científica Actuarial — Clase 1 (Práctica)\n",
    "**Introducción a Python: entorno, variables, tipos y estructuras básicas**\n",
    "\n",
    "> Este notebook acompaña el PPT de la clase. Ejecutá cada celda (Shift+Enter) y resolvé los mini‑ejercicios intercalados.\n"
   ]
  },
  {
   "cell_type": "markdown",
   "id": "46ae98b4",
   "metadata": {},
   "source": [
    "## 0) Preparación rápida\n",
    "- Este es un **notebook (.ipynb)**: podés mezclar texto y código.\n",
    "- Si estás en VS Code/Jupyter/Colab, elegí un *kernel* de Python 3.x.\n",
    "- Recordá que en Python **las celdas se ejecutan en orden**."
   ]
  },
  {
   "cell_type": "markdown",
   "id": "c3551d8e",
   "metadata": {},
   "source": [
    "---\n",
    "## 1) Python como calculadora\n"
   ]
  },
  {
   "cell_type": "code",
   "execution_count": 1,
   "id": "aee0a3e2",
   "metadata": {},
   "outputs": [
    {
     "data": {
      "text/plain": [
       "(8, 6, 42, 3.142857142857143, 3, 1, 1024)"
      ]
     },
     "execution_count": 1,
     "metadata": {},
     "output_type": "execute_result"
    }
   ],
   "source": [
    "# Operaciones aritméticas básicas\n",
    "3 + 5, 10 - 4, 6 * 7, 22 / 7, 22 // 7, 22 % 7, 2 ** 10"
   ]
  },
  {
   "cell_type": "markdown",
   "id": "c988d8c8",
   "metadata": {},
   "source": [
    "### Mini‑ejercicio 1\n",
    "- Calculá el **perímetro** y el **área** de un rectángulo de base `12` y altura `8`.\n",
    "- Mostrá los resultados."
   ]
  },
  {
   "cell_type": "code",
   "execution_count": null,
   "id": "f9f7c6c8",
   "metadata": {
    "tags": [
     "exercise"
    ]
   },
   "outputs": [
    {
     "name": "stdout",
     "output_type": "stream",
     "text": [
      "48\n",
      "128\n"
     ]
    }
   ],
   "source": [
    "# Tu solución acá\n",
    "base = 12\n",
    "altura = 8\n",
    "perimetro = 2 * (base + altura)\n",
    "area = base * altura\n",
    "print(perimetro)\n",
    "print(area)"
   ]
  },
  {
   "cell_type": "markdown",
   "id": "49559f62",
   "metadata": {},
   "source": [
    "---\n",
    "## 2) Variables y tipos básicos\n"
   ]
  },
  {
   "cell_type": "code",
   "execution_count": 55,
   "id": "398210bf",
   "metadata": {},
   "outputs": [
    {
     "data": {
      "text/plain": [
       "(int, float, str, bool)"
      ]
     },
     "execution_count": 55,
     "metadata": {},
     "output_type": "execute_result"
    }
   ],
   "source": [
    "edad = 34          # int (entero)\n",
    "tasa = 0.035       # float (decimal)\n",
    "nombre = \"Ana\"     # str (cadena de texto)\n",
    "activo = True      # bool (booleano)\n",
    "type(edad), type(tasa), type(nombre), type(activo)"
   ]
  },
  {
   "cell_type": "markdown",
   "id": "e3157c25",
   "metadata": {},
   "source": [
    "### Mini‑ejercicio 2\n",
    "Usá un **f‑string** para imprimir algo como: `Hola Ana, tu edad es 34 y estado=Activo`."
   ]
  },
  {
   "cell_type": "code",
   "execution_count": 56,
   "id": "52bac284",
   "metadata": {
    "tags": [
     "exercise"
    ]
   },
   "outputs": [
    {
     "name": "stdout",
     "output_type": "stream",
     "text": [
      "Hola Ana, tu edad es 34 y estado=Activo\n"
     ]
    }
   ],
   "source": [
    "# Tu solución acá\n",
    "print(f\"Hola {nombre}, tu edad es {edad} y estado={'Activo' if activo else 'Inactivo'}\")"
   ]
  },
  {
   "cell_type": "markdown",
   "id": "db83bc99",
   "metadata": {},
   "source": [
    "---\n",
    "## 3) Casting y operadores\n"
   ]
  },
  {
   "cell_type": "code",
   "execution_count": 61,
   "id": "5bbf3d40",
   "metadata": {},
   "outputs": [
    {
     "data": {
      "text/plain": [
       "50"
      ]
     },
     "execution_count": 61,
     "metadata": {},
     "output_type": "execute_result"
    }
   ],
   "source": [
    "# Casting (conversión de tipos)\n",
    "x = \"42\"\n",
    "# x + 8\n",
    "int(x) + 8"
   ]
  },
  {
   "cell_type": "code",
   "execution_count": 62,
   "id": "7728313b",
   "metadata": {},
   "outputs": [
    {
     "data": {
      "text/plain": [
       "True"
      ]
     },
     "execution_count": 62,
     "metadata": {},
     "output_type": "execute_result"
    }
   ],
   "source": [
    "# Operadores de comparación y lógicos\n",
    "a, b = 10, 20\n",
    "(a < b, a == b, a != b)\n",
    "variable = a != b\n",
    "variable"
   ]
  },
  {
   "cell_type": "markdown",
   "id": "20367496",
   "metadata": {},
   "source": [
    "### Mini‑ejercicio 3\n",
    "Ingresá un número (hardcodealo) y verificá si es **par**."
   ]
  },
  {
   "cell_type": "code",
   "execution_count": 65,
   "id": "37c61998",
   "metadata": {
    "tags": [
     "exercise"
    ]
   },
   "outputs": [
    {
     "data": {
      "text/plain": [
       "'¿17 es par? False'"
      ]
     },
     "execution_count": 65,
     "metadata": {},
     "output_type": "execute_result"
    }
   ],
   "source": [
    "# Tu solución acá\n",
    "n = 17  # cambiá este valor\n",
    "es_par = (n % 2 == 0)\n",
    "f\"¿{n} es par? {es_par}\""
   ]
  },
  {
   "cell_type": "markdown",
   "id": "855626b1",
   "metadata": {},
   "source": [
    "---\n",
    "## 4) Strings y f-strings\n"
   ]
  },
  {
   "cell_type": "code",
   "execution_count": 67,
   "id": "4578ee7b",
   "metadata": {},
   "outputs": [
    {
     "data": {
      "text/plain": [
       "'Actuaria y Datos'"
      ]
     },
     "execution_count": 67,
     "metadata": {},
     "output_type": "execute_result"
    }
   ],
   "source": [
    "s = \"Actuaria y Python\"\n",
    "s.lower(), s.upper(), s.replace(\"Python\", \"Datos\"), len(s)\n",
    "\n",
    "# r = \"Actuaria y Datos\"\n",
    "# len(r)\n",
    "s = s.replace(\"Python\", \"Datos\")\n",
    "s\n",
    "# len(s)"
   ]
  },
  {
   "cell_type": "code",
   "execution_count": 69,
   "id": "469f1d18",
   "metadata": {},
   "outputs": [
    {
     "data": {
      "text/plain": [
       "'Hola Fiore, tu saldo es 300000.00'"
      ]
     },
     "execution_count": 69,
     "metadata": {},
     "output_type": "execute_result"
    }
   ],
   "source": [
    "nombre = \"Fiore\"\n",
    "saldo = 300000\n",
    "f\"Hola {nombre}, tu saldo es {saldo:.2f}\""
   ]
  },
  {
   "cell_type": "markdown",
   "id": "fb811f37",
   "metadata": {},
   "source": [
    "### Mini‑ejercicio 4\n",
    "Dado `cliente = 'maria lopez'`, transformalo en `Maria Lopez`."
   ]
  },
  {
   "cell_type": "code",
   "execution_count": 10,
   "id": "6c9a4195",
   "metadata": {
    "tags": [
     "exercise"
    ]
   },
   "outputs": [
    {
     "data": {
      "text/plain": [
       "'Maria Lopez'"
      ]
     },
     "execution_count": 10,
     "metadata": {},
     "output_type": "execute_result"
    }
   ],
   "source": [
    "# Tu solución acá\n",
    "cliente = \"maria lopez\"\n",
    "cliente = \" \".join([p.capitalize() for p in cliente.split()])\n",
    "cliente"
   ]
  },
  {
   "cell_type": "markdown",
   "id": "97f8ba65",
   "metadata": {},
   "source": [
    "---\n",
    "## 5) Estructuras nativas: list, tuple, dict, set\n"
   ]
  },
  {
   "cell_type": "code",
   "execution_count": 70,
   "id": "dbb3817b",
   "metadata": {},
   "outputs": [
    {
     "data": {
      "text/plain": [
       "(1200, 2000, [1500, 950])"
      ]
     },
     "execution_count": 70,
     "metadata": {},
     "output_type": "execute_result"
    }
   ],
   "source": [
    "# List (lista): ordenada, mutable, permite duplicados.\n",
    "primas = [1200, 1500, 950, 2000]\n",
    "primas[0], primas[-1], primas[1:3]  # indexación y slicing"
   ]
  },
  {
   "cell_type": "code",
   "execution_count": 71,
   "id": "5821aeac",
   "metadata": {},
   "outputs": [
    {
     "data": {
      "text/plain": [
       "[950, 1200, 1500, 1750, 2000]"
      ]
     },
     "execution_count": 71,
     "metadata": {},
     "output_type": "execute_result"
    }
   ],
   "source": [
    "# Operaciones básicas en listas\n",
    "primas.append(1750)\n",
    "primas.sort()\n",
    "primas"
   ]
  },
  {
   "cell_type": "code",
   "execution_count": 13,
   "id": "4fc934a7",
   "metadata": {},
   "outputs": [
    {
     "data": {
      "text/plain": [
       "('2025-01', 3)"
      ]
     },
     "execution_count": 13,
     "metadata": {},
     "output_type": "execute_result"
    }
   ],
   "source": [
    "# Tuple (tupla): ordenada, **inmutable**\n",
    "periodo = (\"2025-01\", \"2025-02\", \"2025-03\")\n",
    "periodo[0], len(periodo)"
   ]
  },
  {
   "cell_type": "code",
   "execution_count": 72,
   "id": "aad152cb",
   "metadata": {},
   "outputs": [
    {
     "name": "stdout",
     "output_type": "stream",
     "text": [
      "{'asegurado': 'Juan', 'edad': 45, 'prima': 1500}\n"
     ]
    }
   ],
   "source": [
    "# Dict (diccionario): pares clave -> valor\n",
    "poliza = {\"asegurado\": \"Juan\", \"edad\": 45, \"prima\": 1500}\n",
    "poliza[\"asegurado\"], poliza.get(\"prima\"), list(poliza.keys()), list(poliza.values())\n",
    "print(poliza)"
   ]
  },
  {
   "cell_type": "code",
   "execution_count": 15,
   "id": "84e314df",
   "metadata": {},
   "outputs": [
    {
     "data": {
      "text/plain": [
       "({'retiro', 'salud', 'vida'}, True)"
      ]
     },
     "execution_count": 15,
     "metadata": {},
     "output_type": "execute_result"
    }
   ],
   "source": [
    "# Set (conjunto): colección sin duplicados\n",
    "riesgos = {\"vida\", \"retiro\", \"vida\", \"salud\"}\n",
    "riesgos, (\"vida\" in riesgos)"
   ]
  },
  {
   "cell_type": "markdown",
   "id": "800608fd",
   "metadata": {},
   "source": [
    "### Mini‑ejercicios 5.x\n",
    "1. Crear una lista de **sumas aseguradas** y calcular el **promedio**.\n",
    "2. Agregar a `poliza` una clave `suma_asegurada`.\n",
    "3. Usar un `set` para quitar duplicados de `clientes = ['Ana','Ana','Juan','Pedro','Juan']`."
   ]
  },
  {
   "cell_type": "code",
   "execution_count": 74,
   "id": "c7cd366c",
   "metadata": {
    "tags": [
     "exercise"
    ]
   },
   "outputs": [
    {
     "data": {
      "text/plain": [
       "(112500.0,\n",
       " {'asegurado': 'Juan', 'edad': 45, 'prima': 1500, 'suma_asegurada': 112500.0},\n",
       " {'Ana', 'Juan', 'Pedro'})"
      ]
     },
     "execution_count": 74,
     "metadata": {},
     "output_type": "execute_result"
    }
   ],
   "source": [
    "# Tu solución acá\n",
    "sumas = [100000, 120000, 80000, 150000]\n",
    "promedio = sum(sumas) / len(sumas)\n",
    "poliza[\"suma_asegurada\"] = promedio\n",
    "clientes = ['Ana','Ana','Ana','Juan','Pedro','Juan']\n",
    "clientes_unicos = set(clientes)\n",
    "promedio, poliza, clientes_unicos"
   ]
  },
  {
   "cell_type": "markdown",
   "id": "31a017ac",
   "metadata": {},
   "source": [
    "---\n",
    "## 6) ¿Qué es un DataFrame? (pandas)\n"
   ]
  },
  {
   "cell_type": "code",
   "execution_count": 79,
   "id": "94bf959f",
   "metadata": {},
   "outputs": [
    {
     "data": {
      "text/html": [
       "<div>\n",
       "<style scoped>\n",
       "    .dataframe tbody tr th:only-of-type {\n",
       "        vertical-align: middle;\n",
       "    }\n",
       "\n",
       "    .dataframe tbody tr th {\n",
       "        vertical-align: top;\n",
       "    }\n",
       "\n",
       "    .dataframe thead th {\n",
       "        text-align: right;\n",
       "    }\n",
       "</style>\n",
       "<table border=\"1\" class=\"dataframe\">\n",
       "  <thead>\n",
       "    <tr style=\"text-align: right;\">\n",
       "      <th></th>\n",
       "      <th>Asegurado</th>\n",
       "      <th>Edad</th>\n",
       "      <th>Prima</th>\n",
       "      <th>Suma_Asegurada</th>\n",
       "    </tr>\n",
       "  </thead>\n",
       "  <tbody>\n",
       "    <tr>\n",
       "      <th>0</th>\n",
       "      <td>Juan</td>\n",
       "      <td>34</td>\n",
       "      <td>1200</td>\n",
       "      <td>100000</td>\n",
       "    </tr>\n",
       "    <tr>\n",
       "      <th>1</th>\n",
       "      <td>Ana</td>\n",
       "      <td>45</td>\n",
       "      <td>1500</td>\n",
       "      <td>120000</td>\n",
       "    </tr>\n",
       "    <tr>\n",
       "      <th>2</th>\n",
       "      <td>Pedro</td>\n",
       "      <td>29</td>\n",
       "      <td>950</td>\n",
       "      <td>80000</td>\n",
       "    </tr>\n",
       "    <tr>\n",
       "      <th>3</th>\n",
       "      <td>Laura</td>\n",
       "      <td>52</td>\n",
       "      <td>2000</td>\n",
       "      <td>150000</td>\n",
       "    </tr>\n",
       "  </tbody>\n",
       "</table>\n",
       "</div>"
      ],
      "text/plain": [
       "  Asegurado  Edad  Prima  Suma_Asegurada\n",
       "0      Juan    34   1200          100000\n",
       "1       Ana    45   1500          120000\n",
       "2     Pedro    29    950           80000\n",
       "3     Laura    52   2000          150000"
      ]
     },
     "execution_count": 79,
     "metadata": {},
     "output_type": "execute_result"
    }
   ],
   "source": [
    "import pandas as pd\n",
    "data = {\n",
    "    \"Asegurado\": [\"Juan\", \"Ana\", \"Pedro\", \"Laura\"],\n",
    "    \"Edad\": [34, 45, 29, 52],\n",
    "    \"Prima\": [1200, 1500, 950, 2000],\n",
    "    \"Suma_Asegurada\": [100000, 120000, 80000, 150000],\n",
    "}\n",
    "df = pd.DataFrame(data)\n",
    "df.head()"
   ]
  },
  {
   "cell_type": "code",
   "execution_count": 18,
   "id": "a1894ba1",
   "metadata": {},
   "outputs": [
    {
     "name": "stdout",
     "output_type": "stream",
     "text": [
      "<class 'pandas.core.frame.DataFrame'>\n",
      "RangeIndex: 4 entries, 0 to 3\n",
      "Data columns (total 4 columns):\n",
      " #   Column          Non-Null Count  Dtype \n",
      "---  ------          --------------  ----- \n",
      " 0   Asegurado       4 non-null      object\n",
      " 1   Edad            4 non-null      int64 \n",
      " 2   Prima           4 non-null      int64 \n",
      " 3   Suma_Asegurada  4 non-null      int64 \n",
      "dtypes: int64(3), object(1)\n",
      "memory usage: 260.0+ bytes\n"
     ]
    }
   ],
   "source": [
    "df.info()"
   ]
  },
  {
   "cell_type": "code",
   "execution_count": 19,
   "id": "feeb7f83",
   "metadata": {},
   "outputs": [
    {
     "data": {
      "text/html": [
       "<div>\n",
       "<style scoped>\n",
       "    .dataframe tbody tr th:only-of-type {\n",
       "        vertical-align: middle;\n",
       "    }\n",
       "\n",
       "    .dataframe tbody tr th {\n",
       "        vertical-align: top;\n",
       "    }\n",
       "\n",
       "    .dataframe thead th {\n",
       "        text-align: right;\n",
       "    }\n",
       "</style>\n",
       "<table border=\"1\" class=\"dataframe\">\n",
       "  <thead>\n",
       "    <tr style=\"text-align: right;\">\n",
       "      <th></th>\n",
       "      <th>Edad</th>\n",
       "      <th>Prima</th>\n",
       "      <th>Suma_Asegurada</th>\n",
       "    </tr>\n",
       "  </thead>\n",
       "  <tbody>\n",
       "    <tr>\n",
       "      <th>count</th>\n",
       "      <td>4.000000</td>\n",
       "      <td>4.000000</td>\n",
       "      <td>4.000000</td>\n",
       "    </tr>\n",
       "    <tr>\n",
       "      <th>mean</th>\n",
       "      <td>40.000000</td>\n",
       "      <td>1412.500000</td>\n",
       "      <td>112500.000000</td>\n",
       "    </tr>\n",
       "    <tr>\n",
       "      <th>std</th>\n",
       "      <td>10.424331</td>\n",
       "      <td>451.617463</td>\n",
       "      <td>29860.788112</td>\n",
       "    </tr>\n",
       "    <tr>\n",
       "      <th>min</th>\n",
       "      <td>29.000000</td>\n",
       "      <td>950.000000</td>\n",
       "      <td>80000.000000</td>\n",
       "    </tr>\n",
       "    <tr>\n",
       "      <th>25%</th>\n",
       "      <td>32.750000</td>\n",
       "      <td>1137.500000</td>\n",
       "      <td>95000.000000</td>\n",
       "    </tr>\n",
       "    <tr>\n",
       "      <th>50%</th>\n",
       "      <td>39.500000</td>\n",
       "      <td>1350.000000</td>\n",
       "      <td>110000.000000</td>\n",
       "    </tr>\n",
       "    <tr>\n",
       "      <th>75%</th>\n",
       "      <td>46.750000</td>\n",
       "      <td>1625.000000</td>\n",
       "      <td>127500.000000</td>\n",
       "    </tr>\n",
       "    <tr>\n",
       "      <th>max</th>\n",
       "      <td>52.000000</td>\n",
       "      <td>2000.000000</td>\n",
       "      <td>150000.000000</td>\n",
       "    </tr>\n",
       "  </tbody>\n",
       "</table>\n",
       "</div>"
      ],
      "text/plain": [
       "            Edad        Prima  Suma_Asegurada\n",
       "count   4.000000     4.000000        4.000000\n",
       "mean   40.000000  1412.500000   112500.000000\n",
       "std    10.424331   451.617463    29860.788112\n",
       "min    29.000000   950.000000    80000.000000\n",
       "25%    32.750000  1137.500000    95000.000000\n",
       "50%    39.500000  1350.000000   110000.000000\n",
       "75%    46.750000  1625.000000   127500.000000\n",
       "max    52.000000  2000.000000   150000.000000"
      ]
     },
     "execution_count": 19,
     "metadata": {},
     "output_type": "execute_result"
    }
   ],
   "source": [
    "df.describe()"
   ]
  },
  {
   "cell_type": "markdown",
   "id": "a977473c",
   "metadata": {},
   "source": [
    "### Mini‑ejercicio 6\n",
    "Calculá el **promedio** de la columna `Prima` y mostralo con 2 decimales."
   ]
  },
  {
   "cell_type": "code",
   "execution_count": 20,
   "id": "71aa83c0",
   "metadata": {
    "tags": [
     "exercise"
    ]
   },
   "outputs": [
    {
     "data": {
      "text/plain": [
       "'Prima promedio: 1412.50'"
      ]
     },
     "execution_count": 20,
     "metadata": {},
     "output_type": "execute_result"
    }
   ],
   "source": [
    "# Tu solución acá\n",
    "prom_prima = df[\"Prima\"].mean()\n",
    "f\"Prima promedio: {prom_prima:.2f}\""
   ]
  },
  {
   "cell_type": "markdown",
   "id": "833a8486",
   "metadata": {},
   "source": [
    "---\n",
    "## 7) Práctica sugerida\n",
    "- Repetí los mini‑ejercicios con datos distintos.\n",
    "- Creá una lista de pólizas (como dicts) y calculá la prima promedio.\n"
   ]
  },
  {
   "cell_type": "markdown",
   "id": "63f008a6",
   "metadata": {},
   "source": [
    "---\n",
    "## 8) Funciones: definición, parámetros y retorno"
   ]
  },
  {
   "cell_type": "markdown",
   "id": "820f6395",
   "metadata": {},
   "source": [
    "Una **función** es un bloque de código reutilizable que recibe **parámetros** (opcionales), \n",
    "ejecuta instrucciones y **devuelve** (o no) un resultado con `return`.\n",
    "\n",
    "**Ventajas**: evita repetir código, hace el programa más legible y testeable.\n",
    "\n",
    "> Nota: una **librería** es un *conjunto de funciones y clases* listas para usar. \n",
    "Cuando escribimos `import math`, estamos trayendo **funciones** (p.ej. `math.sqrt`) y **constantes** (`math.pi`)."
   ]
  },
  {
   "cell_type": "code",
   "execution_count": 21,
   "id": "c4c8c1ed",
   "metadata": {},
   "outputs": [
    {
     "data": {
      "text/plain": [
       "'Hola Ana, ¡bienvenido a Python!'"
      ]
     },
     "execution_count": 21,
     "metadata": {},
     "output_type": "execute_result"
    }
   ],
   "source": [
    "def saludo(nombre):\n",
    "    \"\"\"Devuelve un saludo personalizado.\n",
    "    Args:\n",
    "        nombre (str): nombre de la persona\n",
    "    Returns:\n",
    "        str: mensaje de saludo\n",
    "    \"\"\"\n",
    "    return f\"Hola {nombre}, ¡bienvenido a Python!\"\n",
    "\n",
    "saludo(\"Ana\")"
   ]
  },
  {
   "cell_type": "code",
   "execution_count": 22,
   "id": "5c845d28",
   "metadata": {},
   "outputs": [
    {
     "data": {
      "text/plain": [
       "(0.01, 6000.0, 106000.0)"
      ]
     },
     "execution_count": 22,
     "metadata": {},
     "output_type": "execute_result"
    }
   ],
   "source": [
    "# Parámetros con valor por defecto y múltiples retornos\n",
    "\n",
    "def resumen_prestamos(capital, tasa_anual=0.12, plazo_meses=12):\n",
    "    tasa_mensual = tasa_anual/12\n",
    "    interes_estimado = capital * tasa_mensual * plazo_meses\n",
    "    total = capital + interes_estimado\n",
    "    return tasa_mensual, interes_estimado, total\n",
    "\n",
    "resumen_prestamos(100_000, plazo_meses=6)"
   ]
  },
  {
   "cell_type": "markdown",
   "id": "785e59b7",
   "metadata": {},
   "source": [
    "### Mini‑ejercicio 8\n",
    "- Escribí una función `es_par(n)` que devuelva `True`/`False`.\n",
    "- Escribí otra función `mayor(a, b)` que devuelva el mayor de dos números."
   ]
  },
  {
   "cell_type": "code",
   "execution_count": 23,
   "id": "8c7c4d37",
   "metadata": {
    "tags": [
     "exercise"
    ]
   },
   "outputs": [
    {
     "data": {
      "text/plain": [
       "(True, 25)"
      ]
     },
     "execution_count": 23,
     "metadata": {},
     "output_type": "execute_result"
    }
   ],
   "source": [
    "# Tu solución acá\n",
    "\n",
    "def es_par(n):\n",
    "    return (n % 2) == 0\n",
    "\n",
    "\n",
    "def mayor(a, b):\n",
    "    return a if a >= b else b\n",
    "\n",
    "es_par(14), mayor(10, 25)"
   ]
  },
  {
   "cell_type": "markdown",
   "id": "6864d54a",
   "metadata": {},
   "source": [
    "---\n",
    "## 9) Clases, atributos y métodos (POO)"
   ]
  },
  {
   "cell_type": "markdown",
   "id": "228cf302",
   "metadata": {},
   "source": [
    "La **Programación Orientada a Objetos (POO)** organiza el código en **clases** (moldes) y **objetos** (instancias).\n",
    "- **Atributos**: datos que describen al objeto (estado).\n",
    "- **Métodos**: funciones definidas dentro de la clase que describen comportamientos.\n",
    "\n",
    "`__init__` es el **constructor**: se ejecuta al crear el objeto y sirve para inicializar atributos."
   ]
  },
  {
   "cell_type": "code",
   "execution_count": 24,
   "id": "983b0b0d",
   "metadata": {},
   "outputs": [
    {
     "data": {
      "text/plain": [
       "('Toyota rojo (2020) está arrancando', 2, True)"
      ]
     },
     "execution_count": 24,
     "metadata": {},
     "output_type": "execute_result"
    }
   ],
   "source": [
    "class Auto:\n",
    "    flota_total = 0  # atributo de clase (compartido)\n",
    "\n",
    "    def __init__(self, color, marca, anio):\n",
    "        self.color = color     # atributo de instancia\n",
    "        self.marca = marca     # atributo de instancia\n",
    "        self.anio = anio       # atributo de instancia\n",
    "        Auto.flota_total += 1\n",
    "\n",
    "    def descripcion(self):     # método de instancia\n",
    "        return f\"{self.marca} {self.color} ({self.anio})\"\n",
    "\n",
    "    def arrancar(self):\n",
    "        return f\"{self.descripcion()} está arrancando\"\n",
    "\n",
    "    @classmethod\n",
    "    def cantidad_en_flota(cls):\n",
    "        return cls.flota_total\n",
    "\n",
    "    @staticmethod\n",
    "    def es_antiguo(anio):\n",
    "        return anio < 2000\n",
    "\n",
    "mi_auto = Auto(\"rojo\", \"Toyota\", 2020)\n",
    "otro_auto = Auto(\"azul\", \"Ford\", 2015)\n",
    "\n",
    "mi_auto.arrancar(), Auto.cantidad_en_flota(), Auto.es_antiguo(1999)"
   ]
  },
  {
   "cell_type": "markdown",
   "id": "a689610b",
   "metadata": {},
   "source": [
    "**Notas**:\n",
    "- `atributo de clase`: pertenece a la clase y lo comparten todas las instancias.\n",
    "- `atributo de instancia`: propio de cada objeto.\n",
    "- `@classmethod`: método que recibe `cls` (la clase) en vez de `self`.\n",
    "- `@staticmethod`: método utilitario que no depende de `self` ni `cls`."
   ]
  },
  {
   "cell_type": "markdown",
   "id": "fb281276",
   "metadata": {},
   "source": [
    "### Mini‑ejercicio 9\n",
    "- Creá una clase `Poliza` con atributos `asegurado`, `edad`, `prima`.\n",
    "- Agregá un método `resumen()` que devuelva un string con los datos.\n",
    "- Probalo creando dos instancias."
   ]
  },
  {
   "cell_type": "code",
   "execution_count": 25,
   "id": "2f17fa5b",
   "metadata": {
    "tags": [
     "exercise"
    ]
   },
   "outputs": [
    {
     "data": {
      "text/plain": [
       "('Poliza de Juan | edad=45 | prima=1500',\n",
       " 'Poliza de Ana | edad=38 | prima=1200')"
      ]
     },
     "execution_count": 25,
     "metadata": {},
     "output_type": "execute_result"
    }
   ],
   "source": [
    "# Tu solución acá\n",
    "\n",
    "class Poliza:\n",
    "    def __init__(self, asegurado, edad, prima):\n",
    "        self.asegurado = asegurado\n",
    "        self.edad = edad\n",
    "        self.prima = prima\n",
    "    def resumen(self):\n",
    "        return f\"Poliza de {self.asegurado} | edad={self.edad} | prima={self.prima}\"\n",
    "\n",
    "p1 = Poliza(\"Juan\", 45, 1500)\n",
    "p2 = Poliza(\"Ana\", 38, 1200)\n",
    "\n",
    "p1.resumen(), p2.resumen()"
   ]
  },
  {
   "cell_type": "markdown",
   "id": "228a669f",
   "metadata": {},
   "source": [
    "---\n",
    "## 10) NumPy: arrays y operaciones vectorizadas"
   ]
  },
  {
   "cell_type": "markdown",
   "id": "921debf4",
   "metadata": {},
   "source": [
    "**NumPy** provee `ndarray`, una estructura eficiente para computación numérica vectorizada.\n",
    "\n",
    "**Creación básica:**"
   ]
  },
  {
   "cell_type": "code",
   "execution_count": 26,
   "id": "69505a3c",
   "metadata": {},
   "outputs": [
    {
     "data": {
      "text/plain": [
       "(array([10, 20, 30, 40]),\n",
       " array([[1, 2, 3],\n",
       "        [4, 5, 6]]),\n",
       " dtype('int64'),\n",
       " (4,),\n",
       " (2, 3))"
      ]
     },
     "execution_count": 26,
     "metadata": {},
     "output_type": "execute_result"
    }
   ],
   "source": [
    "import numpy as np\n",
    "\n",
    "arr = np.array([10, 20, 30, 40])\n",
    "mat = np.array([[1,2,3],[4,5,6]])\n",
    "arr, mat, arr.dtype, arr.shape, mat.shape"
   ]
  },
  {
   "cell_type": "markdown",
   "id": "82610891",
   "metadata": {},
   "source": [
    "**Operaciones vectorizadas y estadísticas rápidas:**"
   ]
  },
  {
   "cell_type": "code",
   "execution_count": 27,
   "id": "09529235",
   "metadata": {},
   "outputs": [
    {
     "data": {
      "text/plain": [
       "(array([15, 25, 35, 45]),\n",
       " array([20, 40, 60, 80]),\n",
       " array([ 100,  400,  900, 1600]),\n",
       " np.float64(25.0),\n",
       " np.int64(100),\n",
       " np.int64(10),\n",
       " np.int64(40),\n",
       " np.float64(11.180339887498949))"
      ]
     },
     "execution_count": 27,
     "metadata": {},
     "output_type": "execute_result"
    }
   ],
   "source": [
    "arr + 5, arr * 2, arr ** 2, arr.mean(), arr.sum(), arr.min(), arr.max(), arr.std()"
   ]
  },
  {
   "cell_type": "markdown",
   "id": "384bff70",
   "metadata": {},
   "source": [
    "**Creación útil:** `arange`, `linspace`, ceros/unos aleatorios"
   ]
  },
  {
   "cell_type": "code",
   "execution_count": 28,
   "id": "e3027731",
   "metadata": {},
   "outputs": [
    {
     "data": {
      "text/plain": [
       "(array([0, 2, 4, 6, 8]),\n",
       " array([0.  , 0.25, 0.5 , 0.75, 1.  ]),\n",
       " array([[0., 0., 0.],\n",
       "        [0., 0., 0.]]),\n",
       " array([[1., 1., 1.],\n",
       "        [1., 1., 1.]]),\n",
       " array([[0.47310931, 0.21685435, 0.3242664 ],\n",
       "        [0.38582975, 0.28848184, 0.43727354]]))"
      ]
     },
     "execution_count": 28,
     "metadata": {},
     "output_type": "execute_result"
    }
   ],
   "source": [
    "np.arange(0, 10, 2), np.linspace(0, 1, 5), np.zeros((2,3)), np.ones((2,3)), np.random.rand(2,3)"
   ]
  },
  {
   "cell_type": "markdown",
   "id": "b1af4c22",
   "metadata": {},
   "source": [
    "**Métodos/atributos frecuentes de `ndarray`:**\n",
    "- `.shape` (tupla de dimensiones), `.ndim` (nº dimensiones), `.dtype` (tipo)\n",
    "- `.reshape()`, `.ravel()`, `.T` (traspuesta)\n",
    "- `.sum()`, `.mean()`, `.min()`, `.max()`, `.std()`, `.var()`\n",
    "- **Indexación y slicing**: `arr[0]`, `arr[1:3]`, `mat[0,1]`, `mat[:, 0]`"
   ]
  },
  {
   "cell_type": "markdown",
   "id": "0ccbf50a",
   "metadata": {},
   "source": [
    "### Mini‑ejercicio 10\n",
    "- Construí un vector `v = [5,10,15,20,25]` y devolvé su promedio y std.\n",
    "- Tomá `w = np.arange(1,11)` y quedate con los múltiplos de 3."
   ]
  },
  {
   "cell_type": "code",
   "execution_count": 29,
   "id": "d5bf3425",
   "metadata": {
    "tags": [
     "exercise"
    ]
   },
   "outputs": [
    {
     "data": {
      "text/plain": [
       "array([3, 6, 9])"
      ]
     },
     "execution_count": 29,
     "metadata": {},
     "output_type": "execute_result"
    }
   ],
   "source": [
    "# Tu solución acá\n",
    "\n",
    "v = np.array([5,10,15,20,25])\n",
    "v.mean(), v.std()\n",
    "\n",
    "w = np.arange(1, 11)\n",
    "w[w % 3 == 0]"
   ]
  },
  {
   "cell_type": "markdown",
   "id": "4c022973",
   "metadata": {},
   "source": [
    "---\n",
    "## 11) Pandas: métodos y atributos útiles en DataFrames"
   ]
  },
  {
   "cell_type": "markdown",
   "id": "ea9e5ec8",
   "metadata": {},
   "source": [
    "Recordatorio: un **DataFrame** es una **tabla** (filas x columnas). Cada columna es una **Serie**.\n",
    "\n",
    "Desde la sección anterior ya tenemos `df`. Veamos métodos y atributos útiles:"
   ]
  },
  {
   "cell_type": "code",
   "execution_count": 30,
   "id": "899699bf",
   "metadata": {},
   "outputs": [
    {
     "data": {
      "text/plain": [
       "(  Asegurado  Edad  Prima  Suma_Asegurada\n",
       " 0      Juan    34   1200          100000\n",
       " 1       Ana    45   1500          120000\n",
       " 2     Pedro    29    950           80000\n",
       " 3     Laura    52   2000          150000,\n",
       " (4, 4),\n",
       " Index(['Asegurado', 'Edad', 'Prima', 'Suma_Asegurada'], dtype='object'),\n",
       " Asegurado         object\n",
       " Edad               int64\n",
       " Prima              int64\n",
       " Suma_Asegurada     int64\n",
       " dtype: object)"
      ]
     },
     "execution_count": 30,
     "metadata": {},
     "output_type": "execute_result"
    }
   ],
   "source": [
    "# Si no existe df, recrearlo (por si se ejecuta esta celda primero)\n",
    "try:\n",
    "    df\n",
    "except NameError:\n",
    "    import pandas as pd\n",
    "    data = {\n",
    "        \"Asegurado\": [\"Juan\", \"Ana\", \"Pedro\", \"Laura\"],\n",
    "        \"Edad\": [34, 45, 29, 52],\n",
    "        \"Prima\": [1200, 1500, 950, 2000],\n",
    "        \"Suma_Asegurada\": [100000, 120000, 80000, 150000],\n",
    "    }\n",
    "    df = pd.DataFrame(data)\n",
    "\n",
    "df.head(), df.shape, df.columns, df.dtypes"
   ]
  },
  {
   "cell_type": "code",
   "execution_count": 31,
   "id": "9196b5f8",
   "metadata": {},
   "outputs": [
    {
     "data": {
      "text/plain": [
       "(Asegurado         4\n",
       " Edad              4\n",
       " Prima             4\n",
       " Suma_Asegurada    4\n",
       " dtype: int64,\n",
       " Edad                 160\n",
       " Prima               5650\n",
       " Suma_Asegurada    450000\n",
       " dtype: int64,\n",
       " Edad                 29\n",
       " Prima               950\n",
       " Suma_Asegurada    80000\n",
       " dtype: int64,\n",
       " Edad                  52\n",
       " Prima               2000\n",
       " Suma_Asegurada    150000\n",
       " dtype: int64,\n",
       " Edad                  40.0\n",
       " Prima               1412.5\n",
       " Suma_Asegurada    112500.0\n",
       " dtype: float64,\n",
       " Edad                  39.5\n",
       " Prima               1350.0\n",
       " Suma_Asegurada    110000.0\n",
       " dtype: float64,\n",
       " Edad                 10.424331\n",
       " Prima               451.617463\n",
       " Suma_Asegurada    29860.788112\n",
       " dtype: float64)"
      ]
     },
     "execution_count": 31,
     "metadata": {},
     "output_type": "execute_result"
    }
   ],
   "source": [
    "# Estadísticos y conteos\n",
    "(\n",
    "    df.count(),    # cantidad de no nulos por columna\n",
    "    df.sum(numeric_only=True),\n",
    "    df.min(numeric_only=True),\n",
    "    df.max(numeric_only=True),\n",
    "    df.mean(numeric_only=True),\n",
    "    df.median(numeric_only=True),\n",
    "    df.std(numeric_only=True),\n",
    ")"
   ]
  },
  {
   "cell_type": "code",
   "execution_count": 32,
   "id": "05252ee6",
   "metadata": {},
   "outputs": [
    {
     "data": {
      "text/plain": [
       "(  Asegurado  Prima\n",
       " 0      Juan   1200\n",
       " 1       Ana   1500\n",
       " 2     Pedro    950\n",
       " 3     Laura   2000,\n",
       "   Asegurado  Edad  Prima  Suma_Asegurada\n",
       " 0      Juan    34   1200          100000\n",
       " 1       Ana    45   1500          120000\n",
       " 3     Laura    52   2000          150000,\n",
       "   Asegurado  Edad  Prima  Suma_Asegurada\n",
       " 3     Laura    52   2000          150000\n",
       " 1       Ana    45   1500          120000\n",
       " 0      Juan    34   1200          100000)"
      ]
     },
     "execution_count": 32,
     "metadata": {},
     "output_type": "execute_result"
    }
   ],
   "source": [
    "# Selección / filtrado / ordenamiento\n",
    "subset = df[[\"Asegurado\",\"Prima\"]]\n",
    "filtrado = df[df[\"Prima\"] > 1000]\n",
    "ordenado = df.sort_values(\"Prima\", ascending=False)\n",
    "subset, filtrado, ordenado.head(3)"
   ]
  },
  {
   "cell_type": "markdown",
   "id": "85f085b5",
   "metadata": {},
   "source": [
    "**Listado breve de cosas posibles (DataFrame/Series):**\n",
    "- **Estructura**: `.head()`, `.tail()`, `.shape`, `.columns`, `.dtypes`, `.info()`\n",
    "- **Estadísticos**: `.count()`, `.sum()`, `.min()`, `.max()`, `.mean()`, `.median()`, `.std()`, `.describe()`\n",
    "- **Selección**: `df[cols]`, `.loc[fila, col]`, `.iloc[idx]`\n",
    "- **Filtrado**: `df[df[col] > x]`, combinaciones con `&`, `|`, `~`\n",
    "- **Ordenar**: `.sort_values(col)`, `.sort_index()`\n",
    "- **Crear/Modificar**: `df[\"nueva\"] = ...`, `.assign(...)`, `.drop(columns=[...])`\n",
    "- **Agrupar**: `.groupby(col).agg({...})`\n",
    "- **Unir/merge**: `.merge()`, `.concat()`\n",
    "- **Lectura/Escritura**: `pd.read_csv`, `to_csv`, `read_excel`, `to_excel`"
   ]
  },
  {
   "cell_type": "markdown",
   "id": "12751a2d",
   "metadata": {},
   "source": [
    "### Mini‑ejercicio 11\n",
    "- Calculá la **prima promedio** por `Asegurado` con `groupby`.\n",
    "- Creá una columna `Prima_USD` asumiendo tipo de cambio `= 1000`."
   ]
  },
  {
   "cell_type": "code",
   "execution_count": 33,
   "id": "712e5401",
   "metadata": {
    "tags": [
     "exercise"
    ]
   },
   "outputs": [
    {
     "data": {
      "text/plain": [
       "(Asegurado\n",
       " Ana      1500.0\n",
       " Juan     1200.0\n",
       " Laura    2000.0\n",
       " Pedro     950.0\n",
       " Name: Prima, dtype: float64,\n",
       "   Asegurado  Edad  Prima  Suma_Asegurada  Prima_USD\n",
       " 0      Juan    34   1200          100000       1.20\n",
       " 1       Ana    45   1500          120000       1.50\n",
       " 2     Pedro    29    950           80000       0.95\n",
       " 3     Laura    52   2000          150000       2.00)"
      ]
     },
     "execution_count": 33,
     "metadata": {},
     "output_type": "execute_result"
    }
   ],
   "source": [
    "# Tu solución acá\n",
    "\n",
    "prom_por_aseg = df.groupby(\"Asegurado\")[\"Prima\"].mean()\n",
    "df = df.assign(Prima_USD = df[\"Prima\"] / 1000)\n",
    "prom_por_aseg, df.head()"
   ]
  }
 ],
 "metadata": {
  "kernelspec": {
   "display_name": "py313",
   "language": "python",
   "name": "python3"
  },
  "language_info": {
   "codemirror_mode": {
    "name": "ipython",
    "version": 3
   },
   "file_extension": ".py",
   "mimetype": "text/x-python",
   "name": "python",
   "nbconvert_exporter": "python",
   "pygments_lexer": "ipython3",
   "version": "3.13.5"
  }
 },
 "nbformat": 4,
 "nbformat_minor": 5
}
