{
 "cells": [
  {
   "cell_type": "markdown",
   "id": "67a58233",
   "metadata": {},
   "source": [
    "# Computación Científica Actuarial — Clase 2 Parte 1\n",
    "**Introducción a Python: entorno, variables, tipos y estructuras básicas**\n"
   ]
  },
  {
   "cell_type": "markdown",
   "id": "6864d54a",
   "metadata": {},
   "source": [
    "---\n",
    "## 9) Clases, atributos y métodos (POO)"
   ]
  },
  {
   "cell_type": "markdown",
   "id": "228cf302",
   "metadata": {},
   "source": [
    "La **Programación Orientada a Objetos (POO)** organiza el código en **clases** (moldes) y **objetos** (instancias).\n",
    "- **Atributos**: datos que describen al objeto (estado).\n",
    "- **Métodos**: funciones definidas dentro de la clase que describen comportamientos.\n",
    "\n",
    "`__init__` es el **constructor**: se ejecuta al crear el objeto y sirve para inicializar atributos."
   ]
  },
  {
   "cell_type": "code",
   "execution_count": 13,
   "id": "983b0b0d",
   "metadata": {},
   "outputs": [
    {
     "data": {
      "text/plain": [
       "'Toyota rojo (2020)'"
      ]
     },
     "execution_count": 13,
     "metadata": {},
     "output_type": "execute_result"
    }
   ],
   "source": [
    "class Auto:\n",
    "    flota_total = 0  # atributo de clase (compartido)\n",
    "\n",
    "    def __init__(self, color, marca, anio):\n",
    "        self.color = color     # atributo de instancia\n",
    "        self.marca = marca     # atributo de instancia\n",
    "        self.anio = anio       # atributo de instancia\n",
    "        Auto.flota_total += 1\n",
    "\n",
    "    def descripcion(self):     # método de instancia\n",
    "        return f\"{self.marca} {self.color} ({self.anio})\"\n",
    "\n",
    "    def arrancar(self):\n",
    "        return f\"{self.descripcion()} está arrancando\"\n",
    "\n",
    "    @classmethod\n",
    "    def cantidad_en_flota(cls):\n",
    "        return cls.flota_total\n",
    "\n",
    "    @staticmethod\n",
    "    def es_antiguo(anio):\n",
    "        return anio < 2000\n",
    "\n",
    "mi_auto = Auto(\"rojo\", \"Toyota\", 2020)\n",
    "otro_auto = Auto(\"azul\", \"Ford\", 2015)\n",
    "\n",
    "mi_auto.arrancar(), Auto.cantidad_en_flota(), Auto.es_antiguo(1999)\n",
    "mi_auto.descripcion()\n"
   ]
  },
  {
   "cell_type": "markdown",
   "id": "a689610b",
   "metadata": {},
   "source": [
    "**Notas**:\n",
    "- `atributo de clase`: pertenece a la clase y lo comparten todas las instancias.\n",
    "- `atributo de instancia`: propio de cada objeto.\n",
    "- `@classmethod`: método que recibe `cls` (la clase) en vez de `self`.\n",
    "- `@staticmethod`: método utilitario que no depende de `self` ni `cls`."
   ]
  },
  {
   "cell_type": "markdown",
   "id": "fb281276",
   "metadata": {},
   "source": [
    "### Mini‑ejercicio 9\n",
    "- Creá una clase `Poliza` con atributos `asegurado`, `edad`, `prima`.\n",
    "- Agregá un método `resumen()` que devuelva un string con los datos.\n",
    "- Probalo creando dos instancias."
   ]
  },
  {
   "cell_type": "code",
   "execution_count": 2,
   "id": "2f17fa5b",
   "metadata": {
    "tags": [
     "exercise"
    ]
   },
   "outputs": [
    {
     "data": {
      "text/plain": [
       "('Poliza de Juan | edad=45 | prima=1500',\n",
       " 'Poliza de Ana | edad=38 | prima=1200')"
      ]
     },
     "execution_count": 2,
     "metadata": {},
     "output_type": "execute_result"
    }
   ],
   "source": [
    "# Tu solución acá\n",
    "\n",
    "class Poliza:\n",
    "    def __init__(self, asegurado, edad, prima):\n",
    "        self.asegurado = asegurado\n",
    "        self.edad = edad\n",
    "        self.prima = prima\n",
    "    def resumen(self):\n",
    "        return f\"Poliza de {self.asegurado} | edad={self.edad} | prima={self.prima}\"\n",
    "\n",
    "p1 = Poliza(\"Juan\", 45, 1500)\n",
    "p2 = Poliza(\"Ana\", 38, 1200)\n",
    "\n",
    "p1.resumen(), p2.resumen()"
   ]
  },
  {
   "cell_type": "markdown",
   "id": "228a669f",
   "metadata": {},
   "source": [
    "---\n",
    "## 10) NumPy: arrays y operaciones vectorizadas"
   ]
  },
  {
   "cell_type": "markdown",
   "id": "921debf4",
   "metadata": {},
   "source": [
    "**NumPy** provee `ndarray`, una estructura eficiente para computación numérica vectorizada.\n",
    "\n",
    "**Creación básica:**"
   ]
  },
  {
   "cell_type": "code",
   "execution_count": 20,
   "id": "69505a3c",
   "metadata": {},
   "outputs": [
    {
     "data": {
      "text/plain": [
       "(2, 3)"
      ]
     },
     "execution_count": 20,
     "metadata": {},
     "output_type": "execute_result"
    }
   ],
   "source": [
    "import numpy as np\n",
    "\n",
    "arr = np.array([10, 20, 30, 40])\n",
    "mat = np.array([[1,2,3],[4,5,6]])\n",
    "arr, mat, arr.dtype, arr.shape, mat.shape\n",
    "\n",
    "type(arr)\n",
    "arr.dtype\n",
    "arr.shape\n",
    "mat.shape\n"
   ]
  },
  {
   "cell_type": "markdown",
   "id": "82610891",
   "metadata": {},
   "source": [
    "**Operaciones vectorizadas y estadísticas rápidas:**"
   ]
  },
  {
   "cell_type": "code",
   "execution_count": 4,
   "id": "09529235",
   "metadata": {},
   "outputs": [
    {
     "data": {
      "text/plain": [
       "(array([15, 25, 35, 45]),\n",
       " array([20, 40, 60, 80]),\n",
       " array([ 100,  400,  900, 1600]),\n",
       " np.float64(25.0),\n",
       " np.int64(100),\n",
       " np.int64(10),\n",
       " np.int64(40),\n",
       " np.float64(11.180339887498949))"
      ]
     },
     "execution_count": 4,
     "metadata": {},
     "output_type": "execute_result"
    }
   ],
   "source": [
    "arr + 5, arr * 2, arr ** 2, arr.mean(), arr.sum(), arr.min(), arr.max(), arr.std()"
   ]
  },
  {
   "cell_type": "markdown",
   "id": "384bff70",
   "metadata": {},
   "source": [
    "**Creación útil:** `arange`, `linspace`, ceros/unos aleatorios"
   ]
  },
  {
   "cell_type": "code",
   "execution_count": 5,
   "id": "e3027731",
   "metadata": {},
   "outputs": [
    {
     "data": {
      "text/plain": [
       "(array([0, 2, 4, 6, 8]),\n",
       " array([0.  , 0.25, 0.5 , 0.75, 1.  ]),\n",
       " array([[0., 0., 0.],\n",
       "        [0., 0., 0.]]),\n",
       " array([[1., 1., 1.],\n",
       "        [1., 1., 1.]]),\n",
       " array([[0.43040449, 0.48144661, 0.06671472],\n",
       "        [0.22644472, 0.26484549, 0.16049293]]))"
      ]
     },
     "execution_count": 5,
     "metadata": {},
     "output_type": "execute_result"
    }
   ],
   "source": [
    "np.arange(0, 10, 2), np.linspace(0, 1, 5), np.zeros((2,3)), np.ones((2,3)), np.random.rand(2,3)"
   ]
  },
  {
   "cell_type": "markdown",
   "id": "b1af4c22",
   "metadata": {},
   "source": [
    "**Métodos/atributos frecuentes de `ndarray`:**\n",
    "- `.shape` (tupla de dimensiones), `.ndim` (nº dimensiones), `.dtype` (tipo)\n",
    "- `.reshape()`, `.ravel()`, `.T` (traspuesta)\n",
    "- `.sum()`, `.mean()`, `.min()`, `.max()`, `.std()`, `.var()`\n",
    "- **Indexación y slicing**: `arr[0]`, `arr[1:3]`, `mat[0,1]`, `mat[:, 0]`"
   ]
  },
  {
   "cell_type": "markdown",
   "id": "0ccbf50a",
   "metadata": {},
   "source": [
    "### Mini‑ejercicio 10\n",
    "- Construí un vector `v = [5,10,15,20,25]` y devolvé su promedio y std.\n",
    "- Tomá `w = np.arange(1,11)` y quedate con los múltiplos de 3."
   ]
  },
  {
   "cell_type": "code",
   "execution_count": 21,
   "id": "d5bf3425",
   "metadata": {
    "tags": [
     "exercise"
    ]
   },
   "outputs": [
    {
     "name": "stdout",
     "output_type": "stream",
     "text": [
      "[ 1  2  3  4  5  6  7  8  9 10]\n"
     ]
    },
    {
     "data": {
      "text/plain": [
       "array([3, 6, 9])"
      ]
     },
     "execution_count": 21,
     "metadata": {},
     "output_type": "execute_result"
    }
   ],
   "source": [
    "# Tu solución acá\n",
    "\n",
    "v = np.array([5,10,15,20,25])\n",
    "v.mean(), v.std()\n",
    "\n",
    "w = np.arange(1, 11)\n",
    "print(w)\n",
    "w[w % 3 == 0]"
   ]
  },
  {
   "cell_type": "markdown",
   "id": "4c022973",
   "metadata": {},
   "source": [
    "---\n",
    "## 11) Pandas: métodos y atributos útiles en DataFrames"
   ]
  },
  {
   "cell_type": "markdown",
   "id": "ea9e5ec8",
   "metadata": {},
   "source": [
    "Recordatorio: un **DataFrame** es una **tabla** (filas x columnas). Cada columna es una **Serie**.\n",
    "\n",
    "Desde la sección anterior ya tenemos `df`. Veamos métodos y atributos útiles:"
   ]
  },
  {
   "cell_type": "code",
   "execution_count": 7,
   "id": "899699bf",
   "metadata": {},
   "outputs": [
    {
     "data": {
      "text/plain": [
       "(  Asegurado  Edad  Prima  Suma_Asegurada\n",
       " 0      Juan    34   1200          100000\n",
       " 1       Ana    45   1500          120000\n",
       " 2     Pedro    29    950           80000\n",
       " 3     Laura    52   2000          150000,\n",
       " (4, 4),\n",
       " Index(['Asegurado', 'Edad', 'Prima', 'Suma_Asegurada'], dtype='object'),\n",
       " Asegurado         object\n",
       " Edad               int64\n",
       " Prima              int64\n",
       " Suma_Asegurada     int64\n",
       " dtype: object)"
      ]
     },
     "execution_count": 7,
     "metadata": {},
     "output_type": "execute_result"
    }
   ],
   "source": [
    "# Si no existe df, recrearlo (por si se ejecuta esta celda primero)\n",
    "try:\n",
    "    df\n",
    "except NameError:\n",
    "    import pandas as pd\n",
    "    data = {\n",
    "        \"Asegurado\": [\"Juan\", \"Ana\", \"Pedro\", \"Laura\"],\n",
    "        \"Edad\": [34, 45, 29, 52],\n",
    "        \"Prima\": [1200, 1500, 950, 2000],\n",
    "        \"Suma_Asegurada\": [100000, 120000, 80000, 150000],\n",
    "    }\n",
    "    df = pd.DataFrame(data)\n",
    "\n",
    "df.head(), df.shape, df.columns, df.dtypes"
   ]
  },
  {
   "cell_type": "code",
   "execution_count": 8,
   "id": "9196b5f8",
   "metadata": {},
   "outputs": [
    {
     "data": {
      "text/plain": [
       "(Asegurado         4\n",
       " Edad              4\n",
       " Prima             4\n",
       " Suma_Asegurada    4\n",
       " dtype: int64,\n",
       " Edad                 160\n",
       " Prima               5650\n",
       " Suma_Asegurada    450000\n",
       " dtype: int64,\n",
       " Edad                 29\n",
       " Prima               950\n",
       " Suma_Asegurada    80000\n",
       " dtype: int64,\n",
       " Edad                  52\n",
       " Prima               2000\n",
       " Suma_Asegurada    150000\n",
       " dtype: int64,\n",
       " Edad                  40.0\n",
       " Prima               1412.5\n",
       " Suma_Asegurada    112500.0\n",
       " dtype: float64,\n",
       " Edad                  39.5\n",
       " Prima               1350.0\n",
       " Suma_Asegurada    110000.0\n",
       " dtype: float64,\n",
       " Edad                 10.424331\n",
       " Prima               451.617463\n",
       " Suma_Asegurada    29860.788112\n",
       " dtype: float64)"
      ]
     },
     "execution_count": 8,
     "metadata": {},
     "output_type": "execute_result"
    }
   ],
   "source": [
    "# Estadísticos y conteos\n",
    "(\n",
    "    df.count(),    # cantidad de no nulos por columna\n",
    "    df.sum(numeric_only=True),\n",
    "    df.min(numeric_only=True),\n",
    "    df.max(numeric_only=True),\n",
    "    df.mean(numeric_only=True),\n",
    "    df.median(numeric_only=True),\n",
    "    df.std(numeric_only=True),\n",
    ")"
   ]
  },
  {
   "cell_type": "code",
   "execution_count": 9,
   "id": "05252ee6",
   "metadata": {},
   "outputs": [
    {
     "data": {
      "text/plain": [
       "(  Asegurado  Prima\n",
       " 0      Juan   1200\n",
       " 1       Ana   1500\n",
       " 2     Pedro    950\n",
       " 3     Laura   2000,\n",
       "   Asegurado  Edad  Prima  Suma_Asegurada\n",
       " 0      Juan    34   1200          100000\n",
       " 1       Ana    45   1500          120000\n",
       " 3     Laura    52   2000          150000,\n",
       "   Asegurado  Edad  Prima  Suma_Asegurada\n",
       " 3     Laura    52   2000          150000\n",
       " 1       Ana    45   1500          120000\n",
       " 0      Juan    34   1200          100000)"
      ]
     },
     "execution_count": 9,
     "metadata": {},
     "output_type": "execute_result"
    }
   ],
   "source": [
    "# Selección / filtrado / ordenamiento\n",
    "subset = df[[\"Asegurado\",\"Prima\"]]\n",
    "filtrado = df[df[\"Prima\"] > 1000]\n",
    "ordenado = df.sort_values(\"Prima\", ascending=False)\n",
    "subset, filtrado, ordenado.head(3)"
   ]
  },
  {
   "cell_type": "markdown",
   "id": "85f085b5",
   "metadata": {},
   "source": [
    "**Listado breve de cosas posibles (DataFrame/Series):**\n",
    "- **Estructura**: `.head()`, `.tail()`, `.shape`, `.columns`, `.dtypes`, `.info()`\n",
    "- **Estadísticos**: `.count()`, `.sum()`, `.min()`, `.max()`, `.mean()`, `.median()`, `.std()`, `.describe()`\n",
    "- **Selección**: `df[cols]`, `.loc[fila, col]`, `.iloc[idx]`\n",
    "- **Filtrado**: `df[df[col] > x]`, combinaciones con `&`, `|`, `~`\n",
    "- **Ordenar**: `.sort_values(col)`, `.sort_index()`\n",
    "- **Crear/Modificar**: `df[\"nueva\"] = ...`, `.assign(...)`, `.drop(columns=[...])`\n",
    "- **Agrupar**: `.groupby(col).agg({...})`\n",
    "- **Unir/merge**: `.merge()`, `.concat()`\n",
    "- **Lectura/Escritura**: `pd.read_csv`, `to_csv`, `read_excel`, `to_excel`"
   ]
  },
  {
   "cell_type": "markdown",
   "id": "12751a2d",
   "metadata": {},
   "source": [
    "### Mini‑ejercicio 11\n",
    "- Calculá la **prima promedio** por `Asegurado` con `groupby`.\n",
    "- Creá una columna `Prima_USD` asumiendo tipo de cambio `= 1000`."
   ]
  },
  {
   "cell_type": "code",
   "execution_count": 10,
   "id": "712e5401",
   "metadata": {
    "tags": [
     "exercise"
    ]
   },
   "outputs": [
    {
     "data": {
      "text/plain": [
       "(Asegurado\n",
       " Ana      1500.0\n",
       " Juan     1200.0\n",
       " Laura    2000.0\n",
       " Pedro     950.0\n",
       " Name: Prima, dtype: float64,\n",
       "   Asegurado  Edad  Prima  Suma_Asegurada  Prima_USD\n",
       " 0      Juan    34   1200          100000       1.20\n",
       " 1       Ana    45   1500          120000       1.50\n",
       " 2     Pedro    29    950           80000       0.95\n",
       " 3     Laura    52   2000          150000       2.00)"
      ]
     },
     "execution_count": 10,
     "metadata": {},
     "output_type": "execute_result"
    }
   ],
   "source": [
    "# Tu solución acá\n",
    "\n",
    "prom_por_aseg = df.groupby(\"Asegurado\")[\"Prima\"].mean()\n",
    "df = df.assign(Prima_USD = df[\"Prima\"] / 1000)\n",
    "prom_por_aseg, df.head()"
   ]
  },
  {
   "cell_type": "markdown",
   "id": "7c954827",
   "metadata": {},
   "source": []
  }
 ],
 "metadata": {
  "kernelspec": {
   "display_name": "py313",
   "language": "python",
   "name": "python3"
  },
  "language_info": {
   "codemirror_mode": {
    "name": "ipython",
    "version": 3
   },
   "file_extension": ".py",
   "mimetype": "text/x-python",
   "name": "python",
   "nbconvert_exporter": "python",
   "pygments_lexer": "ipython3",
   "version": "3.13.5"
  }
 },
 "nbformat": 4,
 "nbformat_minor": 5
}
